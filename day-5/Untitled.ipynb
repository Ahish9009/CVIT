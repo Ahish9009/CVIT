{
 "cells": [
  {
   "cell_type": "code",
   "execution_count": 34,
   "metadata": {},
   "outputs": [],
   "source": [
    "import numpy as np"
   ]
  },
  {
   "cell_type": "markdown",
   "metadata": {},
   "source": [
    "#### Cancer Test Example\n",
    "Let us apply Bayes' Rule to a Cancer Test Example which is a very common example in Statistic classes.\n",
    "Suppose, there is a certain type of cancer which is extremely rare.\n",
    "\n",
    "Let,\n",
    "\\begin{equation}\n",
    "P(C) = 0.001\n",
    "\\end{equation}\n",
    "In other words, $1$ in every $1000$ people has this cancer. Can you compute the probability of not having cancer?\n",
    "\\begin{equation}\n",
    "P(\\neg C) = 0.999\n",
    "\\end{equation}\n",
    "\n",
    "The test for cancer is not $100\\%$ accurate. Let us say, probability of the test being positive given someone has cancer is,\n",
    "\\begin{equation}\n",
    "P(pos | C) = 0.8\n",
    "\\end{equation}\n",
    "Can you compute the probability that the test is negative given someone has cancer?\n",
    "\\begin{equation}\n",
    "P(neg | C) = 0.2\n",
    "\\end{equation}\n",
    "\n",
    "Similarly, the probability of a test being positive given that someone has no cancer is $P(pos | \\neg C) = 0.1$. Can you compute the probability that the test is negative given someone has no cancer?\n",
    "\\begin{equation}\n",
    "P(neg | \\neg C) = 0.9\n",
    "\\end{equation}\n",
    "\n",
    "Can you compute the following?\n",
    "\\begin{equation}\n",
    "P(C | pos) = 0.007944\n",
    "\\end{equation}\n",
    "Interpret the quantity you computed in words!\n",
    "\n",
    "What we computed is very interesting. We computed probability of having cancer given the test results and how likely the disease is."
   ]
  },
  {
   "cell_type": "code",
   "execution_count": 1,
   "metadata": {},
   "outputs": [],
   "source": [
    "# Modify the empty list, p, so that it becomes a UNIFORM probability\n",
    "# distribution over n grid cells, as expressed in a list of \n",
    "# n probabilities.\n",
    "def init_distribution(n):\n",
    "    p = []\n",
    "    # Add your code here\n",
    "    p = n*[1/n]\n",
    "    # End your code here\n",
    "    return p"
   ]
  },
  {
   "cell_type": "code",
   "execution_count": 2,
   "metadata": {},
   "outputs": [
    {
     "data": {
      "text/plain": [
       "[0.2, 0.2, 0.2, 0.2, 0.2]"
      ]
     },
     "execution_count": 2,
     "metadata": {},
     "output_type": "execute_result"
    }
   ],
   "source": [
    "init_distribution(5)"
   ]
  },
  {
   "cell_type": "code",
   "execution_count": 9,
   "metadata": {},
   "outputs": [
    {
     "data": {
      "text/plain": [
       "1.875"
      ]
     },
     "execution_count": 9,
     "metadata": {},
     "output_type": "execute_result"
    }
   ],
   "source": [
    "p[red/red] = 0.75\n",
    "p[green/red] = 0.25\n",
    "p[red/green] = 0.25\n",
    "p[green/green] = 0.75\n",
    "\n",
    "p[x/red] = p[red/x]*p[x]/p[red]\n"
   ]
  },
  {
   "cell_type": "code",
   "execution_count": 161,
   "metadata": {},
   "outputs": [
    {
     "data": {
      "text/plain": [
       "array([0.11111111, 0.33333333, 0.33333333, 0.11111111, 0.11111111])"
      ]
     },
     "execution_count": 161,
     "metadata": {},
     "output_type": "execute_result"
    }
   ],
   "source": [
    "#Modify the code below so that the function sense, which \n",
    "#takes p and Z as inputs, will output the normalized \n",
    "#probability distribution, q, after multiplying the entries \n",
    "# in p according to the color in the corresponding cell in world,\n",
    "# followed by normalization of the probability values\n",
    "world=np.array(['green', 'red', 'red', 'green', 'green'])\n",
    "p = [0.2, 0.2, 0.2, 0.2, 0.2]\n",
    "\n",
    "probs = {\n",
    "    'red': {\n",
    "        'green':0.25,\n",
    "        'red':0.75\n",
    "    },\n",
    "    'green': {\n",
    "        'green':0.75,\n",
    "        'red':0.25\n",
    "    }\n",
    "}\n",
    "\n",
    "def sense(p, Z):\n",
    "    q = np.array([])\n",
    "    p = np.array(p)\n",
    "    # Add your code here\n",
    "    for i in range(len(world)):\n",
    "        q = np.append( q,  probs[world[i]][Z]*p[i] )\n",
    "    \n",
    "    s = sum(q)\n",
    "    q = [i/s for i in q]\n",
    "    # End your code here\n",
    "    return q\n",
    "\n",
    "def sense(p, Z):\n",
    "    p = np.array(p)\n",
    "    \n",
    "        \n",
    "    q = p*0 + 0.25\n",
    "    q[world == Z] = 0.75\n",
    "    \n",
    "    q*=p\n",
    "    q/=sum(q)\n",
    "\n",
    "    # End your code here\n",
    "    return q\n",
    "            \n",
    "sense(p, 'red')"
   ]
  },
  {
   "cell_type": "code",
   "execution_count": 168,
   "metadata": {},
   "outputs": [
    {
     "name": "stdout",
     "output_type": "stream",
     "text": [
      "[0.04761905 0.42857143 0.42857143 0.04761905 0.04761905]\n"
     ]
    }
   ],
   "source": [
    "#Modify the code so that it updates the probability twice\n",
    "#and gives the posterior distribution after both \n",
    "#measurements are incorporated. Make sure that your code \n",
    "#allows for any sequence of measurement of any length.\n",
    "\n",
    "# DO NOT MODIFY THE SENSE FUNCTION. JUST CALL THE SENSE FUNCTION APPROPRIATELY\n",
    "\n",
    "p=np.array([0.2, 0.2, 0.2, 0.2, 0.2])\n",
    "world=np.array(['green', 'red', 'red', 'green', 'green'])\n",
    "measurements = np.array(['red', 'green'])\n",
    "\n",
    "# Add your code here\n",
    "for i in measurements:\n",
    "    p = sense(p, i)\n",
    "\n",
    "# End your code here\n",
    "print(p)"
   ]
  },
  {
   "cell_type": "code",
   "execution_count": 163,
   "metadata": {},
   "outputs": [
    {
     "data": {
      "text/plain": [
       "array([0.11, 0.11, 0.33, 0.33, 0.11])"
      ]
     },
     "execution_count": 163,
     "metadata": {},
     "output_type": "execute_result"
    }
   ],
   "source": [
    "#Program a function that returns a new distribution \n",
    "#q, shifted to the right by U units. If U=0, q should \n",
    "#be the same as p.\n",
    "\n",
    "def move(p, U):\n",
    "  \n",
    "    # ADD CODE HERE\n",
    "    U = U % len(p)\n",
    "    q = np.roll(p, U)\n",
    "    # END CODE HERE\n",
    "    return q\n",
    "\n",
    "move([0.11, 0.33, 0.33, 0.11, 0.11], 1)"
   ]
  },
  {
   "cell_type": "code",
   "execution_count": 164,
   "metadata": {},
   "outputs": [
    {
     "data": {
      "text/plain": [
       "array([0. , 0.1, 0.8, 0.1, 0. ])"
      ]
     },
     "execution_count": 164,
     "metadata": {},
     "output_type": "execute_result"
    }
   ],
   "source": [
    "def move_uncertain(p, U):\n",
    "    \n",
    "#     q = move(p,U-1)*0.1 + move(p,U)*0.8 + move(p,U+1)*0.1\n",
    "    \n",
    "    q = np.array([])\n",
    "    n = len(p)\n",
    "    for i in range(len(p)):\n",
    "        q = np.append(q, p[(i-U)%n]*0.8 + p[(i-U-1)%n]*0.1 + p[(i-U+1)%n]*0.1)\n",
    "    \n",
    "    return q\n",
    "\n",
    "p = np.array([0,1,0,0,0])\n",
    "move_uncertain(p, 1)"
   ]
  },
  {
   "cell_type": "code",
   "execution_count": 165,
   "metadata": {},
   "outputs": [
    {
     "data": {
      "text/plain": [
       "array([0.66, 0.16, 0.01, 0.01, 0.16])"
      ]
     },
     "execution_count": 165,
     "metadata": {},
     "output_type": "execute_result"
    }
   ],
   "source": [
    "p = np.array([0,1,0,0,0])\n",
    "\n",
    "for i in range(2):\n",
    "    p = move_uncertain(p, 2)\n",
    "p"
   ]
  },
  {
   "cell_type": "code",
   "execution_count": null,
   "metadata": {},
   "outputs": [],
   "source": []
  }
 ],
 "metadata": {
  "kernelspec": {
   "display_name": "Python 3",
   "language": "python",
   "name": "python3"
  },
  "language_info": {
   "codemirror_mode": {
    "name": "ipython",
    "version": 3
   },
   "file_extension": ".py",
   "mimetype": "text/x-python",
   "name": "python",
   "nbconvert_exporter": "python",
   "pygments_lexer": "ipython3",
   "version": "3.7.6"
  }
 },
 "nbformat": 4,
 "nbformat_minor": 2
}
