{
  "nbformat": 4,
  "nbformat_minor": 0,
  "metadata": {
    "colab": {
      "name": "day-1.ipynb",
      "provenance": [],
      "collapsed_sections": []
    },
    "kernelspec": {
      "name": "python3",
      "display_name": "Python 3"
    }
  },
  "cells": [
    {
      "cell_type": "markdown",
      "metadata": {
        "id": "HF5235kaK_SK",
        "colab_type": "text"
      },
      "source": [
        "# Day - 1"
      ]
    },
    {
      "cell_type": "markdown",
      "metadata": {
        "id": "7dIiLSKbhrBA",
        "colab_type": "text"
      },
      "source": [
        "## 0. Github & Google Colab"
      ]
    },
    {
      "cell_type": "markdown",
      "metadata": {
        "id": "DSwXE23JKoK_",
        "colab_type": "text"
      },
      "source": [
        "### Task - 1"
      ]
    },
    {
      "cell_type": "code",
      "metadata": {
        "id": "KKXt-UFVH-v4",
        "colab_type": "code",
        "colab": {
          "base_uri": "https://localhost:8080/",
          "height": 35
        },
        "outputId": "c736ab97-2517-4b4b-b82f-3d7905e43926"
      },
      "source": [
        "l = [1,2,3,4,5,6,7,4,2,6,87,3,3,5,34]\n",
        "\n",
        "#1\n",
        "print(l[::-1])\n",
        "\n",
        "#2\n",
        "for i in range(5):\n",
        "  print(l[-i], end=' ')\n",
        "\n",
        "#3\n",
        "l.pop(2)\n",
        "print(l)"
      ],
      "execution_count": 9,
      "outputs": [
        {
          "output_type": "stream",
          "text": [
            "1 34 5 3 3 "
          ],
          "name": "stdout"
        }
      ]
    },
    {
      "cell_type": "markdown",
      "metadata": {
        "id": "_DnpqqfFJbc9",
        "colab_type": "text"
      },
      "source": [
        "### Task - 2"
      ]
    },
    {
      "cell_type": "code",
      "metadata": {
        "id": "YhGfZuYwJckY",
        "colab_type": "code",
        "colab": {
          "base_uri": "https://localhost:8080/",
          "height": 53
        },
        "outputId": "7da5afc7-4a9d-4668-c0e9-63a157217cc9"
      },
      "source": [
        "x = dict([(pow(10,r),r) for r in range(10)])\n",
        "\n",
        "#1\n",
        "print(x.keys())\n",
        "\n",
        "#2\n",
        "if 100 in x:\n",
        "  del x[100]  \n",
        "\n",
        "#3\n",
        "l = [(k, x[k]) for k in x]\n",
        "print(l)"
      ],
      "execution_count": 17,
      "outputs": [
        {
          "output_type": "stream",
          "text": [
            "dict_keys([1, 10, 100, 1000, 10000, 100000, 1000000, 10000000, 100000000, 1000000000])\n",
            "[(1, 0), (10, 1), (1000, 3), (10000, 4), (100000, 5), (1000000, 6), (10000000, 7), (100000000, 8), (1000000000, 9)]\n"
          ],
          "name": "stdout"
        }
      ]
    },
    {
      "cell_type": "markdown",
      "metadata": {
        "id": "5UyMjMtdiDiZ",
        "colab_type": "text"
      },
      "source": [
        "## NumPy"
      ]
    },
    {
      "cell_type": "code",
      "metadata": {
        "id": "gTRFb_W_iHE4",
        "colab_type": "code",
        "colab": {}
      },
      "source": [
        "import numpy as np"
      ],
      "execution_count": 0,
      "outputs": []
    },
    {
      "cell_type": "markdown",
      "metadata": {
        "id": "-GFx6slNnwi5",
        "colab_type": "text"
      },
      "source": [
        "### Task - 1 (3)\n",
        "#### Inverse of Square Matrix"
      ]
    },
    {
      "cell_type": "code",
      "metadata": {
        "id": "qBcQnnVujKxO",
        "colab_type": "code",
        "colab": {
          "base_uri": "https://localhost:8080/",
          "height": 53
        },
        "outputId": "980a952f-bb3d-4004-fab1-4ab1a95febc6"
      },
      "source": [
        "x = np.array([(2,3),(2,2)])\n",
        "U,s,V = np.linalg.svd(x)\n",
        "\n",
        "x_t = np.transpose(V) @ np.diag(1/s) @ np.transpose(U)\n",
        "np.linalg.inv(x)\n"
      ],
      "execution_count": 48,
      "outputs": [
        {
          "output_type": "execute_result",
          "data": {
            "text/plain": [
              "array([[-1. ,  1.5],\n",
              "       [ 1. , -1. ]])"
            ]
          },
          "metadata": {
            "tags": []
          },
          "execution_count": 48
        }
      ]
    },
    {
      "cell_type": "code",
      "metadata": {
        "id": "ZfjbW0ljlzYz",
        "colab_type": "code",
        "colab": {
          "base_uri": "https://localhost:8080/",
          "height": 35
        },
        "outputId": "f7c9fdc5-4109-432e-8966-6eed09555693"
      },
      "source": [
        "s = np.array([(1,2,3)])\n",
        "1/s"
      ],
      "execution_count": 28,
      "outputs": [
        {
          "output_type": "execute_result",
          "data": {
            "text/plain": [
              "array([[1.        , 0.5       , 0.33333333]])"
            ]
          },
          "metadata": {
            "tags": []
          },
          "execution_count": 28
        }
      ]
    },
    {
      "cell_type": "markdown",
      "metadata": {
        "id": "qr_uTsWhpJML",
        "colab_type": "text"
      },
      "source": [
        "## MatPlotLib"
      ]
    },
    {
      "cell_type": "code",
      "metadata": {
        "id": "00MMQ7spoWH9",
        "colab_type": "code",
        "colab": {}
      },
      "source": [
        "import matplotlib.pyplot as plt"
      ],
      "execution_count": 0,
      "outputs": []
    },
    {
      "cell_type": "markdown",
      "metadata": {
        "id": "X0LHZoItpSdm",
        "colab_type": "text"
      },
      "source": [
        "### Task - 1 (4)\n",
        "#### Plotting Sin & Cos"
      ]
    },
    {
      "cell_type": "code",
      "metadata": {
        "id": "aSy2sM-xpPpf",
        "colab_type": "code",
        "colab": {
          "base_uri": "https://localhost:8080/",
          "height": 283
        },
        "outputId": "9fe522bc-9628-4494-cfe5-7c2691ab6a93"
      },
      "source": [
        "t = np.arange(0,2*np.pi, 0.1)\n",
        "\n",
        "y_sin = np.sin(t)\n",
        "y_cos = np.cos(t)\n",
        "\n",
        "plt.plot(t, y_sin)\n",
        "plt.scatter(t, y_cos)"
      ],
      "execution_count": 58,
      "outputs": [
        {
          "output_type": "execute_result",
          "data": {
            "text/plain": [
              "<matplotlib.collections.PathCollection at 0x7fbb4336fc88>"
            ]
          },
          "metadata": {
            "tags": []
          },
          "execution_count": 58
        },
        {
          "output_type": "display_data",
          "data": {
            "image/png": "[encoded data removed]",
            "text/plain": [
              "<Figure size 432x288 with 1 Axes>"
            ]
          },
          "metadata": {
            "tags": [],
            "needs_background": "light"
          }
        }
      ]
    },
    {
      "cell_type": "markdown",
      "metadata": {
        "id": "3lBFW_RFqSvZ",
        "colab_type": "text"
      },
      "source": [
        "## Plotly"
      ]
    },
    {
      "cell_type": "markdown",
      "metadata": {
        "id": "XJ6Ae8kNqZLu",
        "colab_type": "text"
      },
      "source": [
        ""
      ]
    }
  ]
}