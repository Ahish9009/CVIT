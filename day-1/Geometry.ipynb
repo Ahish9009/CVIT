{
 "cells": [
  {
   "cell_type": "code",
   "execution_count": null,
   "metadata": {
    "colab": {},
    "colab_type": "code",
    "id": "C5IYHrRdfmSr"
   },
   "outputs": [],
   "source": [
    "# Install dependencies\n",
    "!pip3 install numpy\n",
    "!pip3 install matplotlib\n",
    "!pip3 install sklearn"
   ]
  },
  {
   "cell_type": "markdown",
   "metadata": {
    "colab_type": "text",
    "id": "X7sx6NJYfopf"
   },
   "source": [
    "# Geometry in Computer Vision "
   ]
  },
  {
   "cell_type": "code",
   "execution_count": null,
   "metadata": {
    "colab": {},
    "colab_type": "code",
    "id": "-nVNQoa2fwmV"
   },
   "outputs": [],
   "source": [
    "import numpy as np\n",
    "import matplotlib.pyplot as plt"
   ]
  },
  {
   "cell_type": "markdown",
   "metadata": {},
   "source": [
    "# Generating Lines"
   ]
  },
  {
   "cell_type": "markdown",
   "metadata": {
    "colab_type": "text",
    "id": "XdnnDxQcwq9l"
   },
   "source": [
    "**Question:**\n",
    "Can you try to modify the parameters and plot the line:\n",
    "\\begin{equation}\n",
    "x = 25\n",
    "\\end{equation}\n",
    "\n",
    "You may use any of the above two methods. Is it possible to represent and plot the line in the current $ax + by + c = 0$ form?"
   ]
  },
  {
   "cell_type": "code",
   "execution_count": null,
   "metadata": {},
   "outputs": [],
   "source": [
    "def gen_line(a, b, c):\n",
    "    \n",
    "    if not a:\n",
    "        X = np.linspace(-100,100, num = 200)\n",
    "        Y = (-c - a*X)/b\n",
    "        return X, Y\n",
    "    else:\n",
    "        Y = np.linspace(-100, 100, num = 200)\n",
    "        X = (-c - b*Y)/a\n",
    "        return X, Y"
   ]
  },
  {
   "cell_type": "code",
   "execution_count": null,
   "metadata": {
    "colab": {},
    "colab_type": "code",
    "id": "jO80p6NHwr3I"
   },
   "outputs": [],
   "source": [
    "# Write code here to decide the apt. parameters\n",
    "\n",
    "### Star Code Here ###\n",
    "a = 1\n",
    "b = 0\n",
    "c = -25\n",
    "### End Code Here ###"
   ]
  },
  {
   "cell_type": "code",
   "execution_count": null,
   "metadata": {
    "colab": {},
    "colab_type": "code",
    "id": "IVZFuEdUwwes"
   },
   "outputs": [],
   "source": [
    "# Write code here to plot appropriately using one of the above methods discussed.\n",
    "plt.plot(*gen_line(a, b, c))"
   ]
  },
  {
   "cell_type": "code",
   "execution_count": null,
   "metadata": {},
   "outputs": [],
   "source": [
    "a = 4\n",
    "b = 8\n",
    "c = -5\n",
    "plt.plot(*gen_line(a, b, c))"
   ]
  },
  {
   "cell_type": "code",
   "execution_count": null,
   "metadata": {},
   "outputs": [],
   "source": [
    "a = 1\n",
    "b = 0\n",
    "c = -20\n",
    "\n",
    "w = [a, b] # From the definition laid out in the writeup\n",
    "%matplotlib inline\n",
    "X, Y = gen_line(a, b, c)\n",
    "plt.plot(X, Y, label = 'line')\n",
    "plt.plot(np.linspace(0, w[0]*abs(c), num = 100), np.linspace(0,w[1]*abs(c), num = 100), 'r-', label = 'w-vector')\n",
    "plt.legend(loc = \"lower left\")"
   ]
  },
  {
   "cell_type": "markdown",
   "metadata": {},
   "source": [
    "# Distances of Lines"
   ]
  },
  {
   "cell_type": "markdown",
   "metadata": {},
   "source": [
    "We know from the mid school mathematics that the distance from origin to the line  𝑎𝑥+𝑏𝑦+𝑐=0  is  |𝑐|𝑎2+𝑏2√ .\n",
    "\n",
    "Equivalently, distance from the origin to the line  𝑤𝑇𝑋+𝑐=0  is given by  |−𝑐|||𝑤||"
   ]
  },
  {
   "cell_type": "code",
   "execution_count": null,
   "metadata": {},
   "outputs": [],
   "source": [
    "def mod(w):\n",
    "    return np.sqrt(w[0]**2 + w[1]**2)"
   ]
  },
  {
   "cell_type": "code",
   "execution_count": null,
   "metadata": {},
   "outputs": [],
   "source": [
    "def distance_from_origin(a, b, c):\n",
    "    w = [a, b]\n",
    "    \n",
    "    return abs(c)/mod(w)"
   ]
  },
  {
   "cell_type": "code",
   "execution_count": null,
   "metadata": {},
   "outputs": [],
   "source": [
    "def distance_from_pll(a1, b1, c1, a2, b2, c2):\n",
    "    \n",
    "    return abs(c1 - c2)/mod([a1,b1])"
   ]
  },
  {
   "cell_type": "code",
   "execution_count": null,
   "metadata": {},
   "outputs": [],
   "source": [
    "d1 = distance_from_origin(1, 0, -50)\n",
    "d2 = distance_from_origin(0, 1, -25)\n",
    "print(d1, d2)"
   ]
  },
  {
   "cell_type": "code",
   "execution_count": null,
   "metadata": {},
   "outputs": [],
   "source": [
    "d3 = distance_from_pll(1, 2, 3, 1, 2, 4)\n",
    "print(d3)"
   ]
  },
  {
   "cell_type": "markdown",
   "metadata": {},
   "source": [
    "# Various Functions"
   ]
  },
  {
   "cell_type": "code",
   "execution_count": null,
   "metadata": {},
   "outputs": [],
   "source": [
    "def sigmoid(X):\n",
    "    return 1/(1 + np.exp(-X))"
   ]
  },
  {
   "cell_type": "code",
   "execution_count": null,
   "metadata": {},
   "outputs": [],
   "source": [
    "def tanh(X):\n",
    "    return (np.exp(X) - np.exp(-X))/(np.exp(X) + np.exp(-X))"
   ]
  },
  {
   "cell_type": "code",
   "execution_count": null,
   "metadata": {},
   "outputs": [],
   "source": [
    "def gaussian(X):\n",
    "    return np.exp(-(X**2))"
   ]
  },
  {
   "cell_type": "code",
   "execution_count": null,
   "metadata": {},
   "outputs": [],
   "source": [
    "def reLU(X):\n",
    "    bool_X = (X > 0).astype(int)\n",
    "    return X*bool_X"
   ]
  },
  {
   "cell_type": "code",
   "execution_count": null,
   "metadata": {},
   "outputs": [],
   "source": [
    "def leaky_reLU(X):\n",
    "    bool_X1 = (X > 0.1*X).astype(int)\n",
    "    bool_X2 = (X <= 0.1*X).astype(int)\n",
    "    \n",
    "    return X*bool_X1 + bool_X2*0.1*X"
   ]
  },
  {
   "cell_type": "code",
   "execution_count": null,
   "metadata": {},
   "outputs": [],
   "source": [
    "def step(X):\n",
    "    bool_X1 = (X > 0).astype(int)\n",
    "    return bool_X1 + 0*X"
   ]
  },
  {
   "cell_type": "markdown",
   "metadata": {},
   "source": [
    "## Sigmoid Function"
   ]
  },
  {
   "cell_type": "code",
   "execution_count": null,
   "metadata": {},
   "outputs": [],
   "source": [
    "X = np.linspace(-10, 10, num = 200)\n",
    "plt.plot(X, sigmoid(X))\n",
    "plt.title(\"Sigmoid\")"
   ]
  },
  {
   "cell_type": "markdown",
   "metadata": {},
   "source": [
    "## tanh function"
   ]
  },
  {
   "cell_type": "code",
   "execution_count": null,
   "metadata": {},
   "outputs": [],
   "source": [
    "X = np.linspace(-10, 10, num = 200)\n",
    "plt.plot(X, tanh(X))\n",
    "plt.title(\"tanH\")"
   ]
  },
  {
   "cell_type": "markdown",
   "metadata": {},
   "source": [
    "## Gaussian Function"
   ]
  },
  {
   "cell_type": "code",
   "execution_count": null,
   "metadata": {},
   "outputs": [],
   "source": [
    "X = np.linspace(-10, 10, num = 200)\n",
    "plt.plot(X, gaussian(X))\n",
    "plt.title(\"Gaussian\")"
   ]
  },
  {
   "cell_type": "markdown",
   "metadata": {},
   "source": [
    "## reLU Function"
   ]
  },
  {
   "cell_type": "code",
   "execution_count": null,
   "metadata": {},
   "outputs": [],
   "source": [
    "X = np.linspace(-10, 10, num = 200)\n",
    "plt.plot(X, reLU(X))\n",
    "plt.title(\"reLU\")"
   ]
  },
  {
   "cell_type": "markdown",
   "metadata": {},
   "source": [
    "## Leaky reLU Function"
   ]
  },
  {
   "cell_type": "code",
   "execution_count": null,
   "metadata": {},
   "outputs": [],
   "source": [
    "X = np.linspace(-10, 10, num = 200)\n",
    "plt.plot(X, leaky_reLU(X))\n",
    "plt.title(\"Leaky reLU\")"
   ]
  },
  {
   "cell_type": "markdown",
   "metadata": {},
   "source": [
    "## Step Function"
   ]
  },
  {
   "cell_type": "code",
   "execution_count": null,
   "metadata": {},
   "outputs": [],
   "source": [
    "X = np.linspace(-10, 10, num = 200)\n",
    "plt.plot(X, step(X))\n",
    "plt.title(\"Step Function\")"
   ]
  },
  {
   "cell_type": "markdown",
   "metadata": {},
   "source": [
    "# Shape Plots"
   ]
  },
  {
   "cell_type": "markdown",
   "metadata": {},
   "source": [
    "## Circle Plot"
   ]
  },
  {
   "cell_type": "code",
   "execution_count": null,
   "metadata": {},
   "outputs": [],
   "source": [
    "r = 5\n",
    "X = np.linspace(-r, r, num = 100)\n",
    "Y1 = np.sqrt(r**2 - X**2)\n",
    "Y2 = -Y1\n",
    "plt.plot(X, Y1, 'r-',X, Y2, 'r-')"
   ]
  },
  {
   "cell_type": "markdown",
   "metadata": {},
   "source": [
    "## Ellipse Plot"
   ]
  },
  {
   "cell_type": "code",
   "execution_count": null,
   "metadata": {},
   "outputs": [],
   "source": [
    "a = 2\n",
    "b = 4\n",
    "X = np.linspace(-a, a, num = 100)\n",
    "Y1 = b*np.sqrt(1 - (X**2/a**2))\n",
    "Y2 = -Y1\n",
    "plt.plot(X, Y1, 'r-',X, Y2, 'r-')"
   ]
  },
  {
   "cell_type": "markdown",
   "metadata": {},
   "source": [
    "## Square Plot"
   ]
  },
  {
   "cell_type": "code",
   "execution_count": null,
   "metadata": {},
   "outputs": [],
   "source": [
    "a = 5\n",
    "\n",
    "X = np.linspace(0, a, num = 100)\n",
    "Y1 = 0*X\n",
    "Y2 = Y1 + a\n",
    "\n",
    "plt.plot(X, Y1, X, Y2)\n",
    "plt.plot(Y1, X, Y2, X)\n"
   ]
  },
  {
   "cell_type": "markdown",
   "metadata": {},
   "source": [
    "# Contour Plot"
   ]
  },
  {
   "cell_type": "code",
   "execution_count": null,
   "metadata": {},
   "outputs": [],
   "source": [
    "%matplotlib inline\n",
    "x = np.linspace(-2, 2, 200)\n",
    "y = np.linspace(-2, 2, 200)\n",
    "X, Y = np.meshgrid(x, y)\n",
    "f = np.exp(-X*X - Y*Y)\n",
    "C = plt.contour(X, Y, f)\n",
    "plt.clabel(C)"
   ]
  },
  {
   "cell_type": "markdown",
   "metadata": {},
   "source": [
    "# 3D Scatter Plot"
   ]
  },
  {
   "cell_type": "code",
   "execution_count": null,
   "metadata": {},
   "outputs": [],
   "source": [
    "# Do not modify this Cell\n",
    "from sklearn.datasets import make_swiss_roll\n",
    "X, _ = make_swiss_roll(1000)\n",
    "\n",
    "xs = X[:, 0]\n",
    "ys = X[:, 1]\n",
    "zs = X[:, 2]"
   ]
  },
  {
   "cell_type": "code",
   "execution_count": null,
   "metadata": {},
   "outputs": [],
   "source": [
    "from mpl_toolkits.mplot3d import Axes3D\n",
    "%matplotlib \n",
    "plt3d = plt.figure().gca(projection='3d')\n",
    "# Write code here to plot the 3D scatter-plot(~1 line)\n",
    "plt3d.scatter(xs, ys, zs)"
   ]
  },
  {
   "cell_type": "code",
   "execution_count": null,
   "metadata": {},
   "outputs": [],
   "source": []
  }
 ],
 "metadata": {
  "colab": {
   "name": "Geometry.ipynb",
   "provenance": []
  },
  "kernelspec": {
   "display_name": "Python 3",
   "language": "python",
   "name": "python3"
  },
  "language_info": {
   "codemirror_mode": {
    "name": "ipython",
    "version": 3
   },
   "file_extension": ".py",
   "mimetype": "text/x-python",
   "name": "python",
   "nbconvert_exporter": "python",
   "pygments_lexer": "ipython3",
   "version": "3.7.6"
  }
 },
 "nbformat": 4,
 "nbformat_minor": 1
}
