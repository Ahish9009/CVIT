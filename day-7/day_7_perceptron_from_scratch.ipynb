{
 "cells": [
  {
   "cell_type": "code",
   "execution_count": 278,
   "metadata": {},
   "outputs": [],
   "source": [
    "import numpy as np\n",
    "import matplotlib.pyplot as plt"
   ]
  },
  {
   "cell_type": "code",
   "execution_count": 525,
   "metadata": {},
   "outputs": [],
   "source": [
    "class Perceptron(object):\n",
    "    \n",
    "    def __init__(self, inp_size, x_train, y_train, thres, epochs, lr):\n",
    "        self.w = np.random.randint(-5,5, (inp_size)).astype('float')\n",
    "        self.x_train = x_train\n",
    "        self.y_train = y_train\n",
    "        self.pred = np.array([])\n",
    "        self.epochs = epochs\n",
    "        self.lr = lr\n",
    "        self.thres = thres\n",
    "        self.costs = np.array([])\n",
    "    \n",
    "    def get_cost(self):\n",
    "        pred = (self.w @ self.x_train.T > self.thres).astype('int')\n",
    "        c = np.sum(((self.y_train - pred)**2))/2\n",
    "        \n",
    "        return c, pred\n",
    "    \n",
    "    def get_derivative(self, pred):\n",
    "        return np.sum( ( (pred - y_train) * x_train.T).T, 0 )\n",
    "\n",
    "    def check_early_stopping(self):\n",
    "        \n",
    "        if len(self.costs) < 100:\n",
    "            return 0\n",
    "        vals = set()\n",
    "        for j in self.costs[::-1][:100]:\n",
    "            vals.add(j)\n",
    "        return len(vals) == 1\n",
    "            \n",
    "    def fit(self):\n",
    "        \n",
    "        print(\"Initial Weights: \", self.w)\n",
    "        for i in range(self.epochs):\n",
    "            \n",
    "            c, pred = self.get_cost()\n",
    "            self.w = self.w - self.lr*self.get_derivative(pred)\n",
    "    \n",
    "            self.costs = np.append(self.costs, c)\n",
    "        \n",
    "            if self.check_early_stopping():\n",
    "                break\n",
    "        \n",
    "        print(\"Final Weights: \", self.w)\n",
    "        print(\"Final Cost: \", c)\n",
    "            \n",
    "    def plot_cost(self):\n",
    "        \n",
    "        plt.plot(range(len(self.costs)), self.costs)\n",
    "            \n",
    "            \n",
    "\n",
    "        \n",
    "        \n",
    "        "
   ]
  },
  {
   "cell_type": "markdown",
   "metadata": {},
   "source": [
    "## AND Gate"
   ]
  },
  {
   "cell_type": "code",
   "execution_count": 528,
   "metadata": {},
   "outputs": [
    {
     "name": "stdout",
     "output_type": "stream",
     "text": [
      "Initial Weights:  [-3. -3.]\n",
      "Final Weights:  [1.55 1.55]\n",
      "Final Cost:  0.0\n"
     ]
    },
    {
     "data": {
      "image/png": "[encoded data removed]",
      "text/plain": [
       "<Figure size 432x288 with 1 Axes>"
      ]
     },
     "metadata": {
      "needs_background": "light"
     },
     "output_type": "display_data"
    }
   ],
   "source": [
    "x_train = np.array([\n",
    "    [0,0],\n",
    "    [0,1],\n",
    "    [1,0],\n",
    "    [1,1]\n",
    "])\n",
    "y_train = np.array([0,0,0,1])\n",
    "\n",
    "a = Perceptron(2, x_train, y_train, 3.0, 1000, 0.05)\n",
    "a.fit()\n",
    "\n",
    "a.plot_cost()"
   ]
  },
  {
   "cell_type": "markdown",
   "metadata": {},
   "source": [
    "## OR Gate"
   ]
  },
  {
   "cell_type": "code",
   "execution_count": 529,
   "metadata": {},
   "outputs": [
    {
     "name": "stdout",
     "output_type": "stream",
     "text": [
      "Initial Weights:  [-3. -5.]\n",
      "Final Weights:  [3.   3.05]\n",
      "Final Cost:  0.0\n"
     ]
    },
    {
     "data": {
      "image/png": "[encoded data removed]",
      "text/plain": [
       "<Figure size 432x288 with 1 Axes>"
      ]
     },
     "metadata": {
      "needs_background": "light"
     },
     "output_type": "display_data"
    }
   ],
   "source": [
    "x_train = np.array([\n",
    "    [0,0],\n",
    "    [0,1],\n",
    "    [1,0],\n",
    "    [1,1]\n",
    "])\n",
    "y_train = np.array([0,1,1,1])\n",
    "\n",
    "a = Perceptron(2, x_train, y_train, 3, 1000, 0.05)\n",
    "a.fit()\n",
    "\n",
    "a.plot_cost()"
   ]
  },
  {
   "cell_type": "markdown",
   "metadata": {},
   "source": [
    "## XOR Gate"
   ]
  },
  {
   "cell_type": "code",
   "execution_count": 518,
   "metadata": {},
   "outputs": [
    {
     "name": "stdout",
     "output_type": "stream",
     "text": [
      "Initial Weights:  [-1.  2.]\n",
      "Final Weights:  [-3.   -0.05]\n",
      "Final Cost:  0.5\n"
     ]
    },
    {
     "data": {
      "image/png": "[encoded data removed]",
      "text/plain": [
       "<Figure size 432x288 with 1 Axes>"
      ]
     },
     "metadata": {
      "needs_background": "light"
     },
     "output_type": "display_data"
    }
   ],
   "source": [
    "x_train = np.array([\n",
    "    [0,0],\n",
    "    [0,1],\n",
    "    [1,0],\n",
    "    [1,1]\n",
    "])\n",
    "y_train = np.array([0,1,1,0])\n",
    "\n",
    "a = Perceptron(2, x_train, y_train, -3, 1000, 0.05)\n",
    "a.fit()\n",
    "\n",
    "a.plot_cost()"
   ]
  },
  {
   "cell_type": "code",
   "execution_count": null,
   "metadata": {},
   "outputs": [],
   "source": []
  }
 ],
 "metadata": {
  "kernelspec": {
   "display_name": "Python 3",
   "language": "python",
   "name": "python3"
  },
  "language_info": {
   "codemirror_mode": {
    "name": "ipython",
    "version": 3
   },
   "file_extension": ".py",
   "mimetype": "text/x-python",
   "name": "python",
   "nbconvert_exporter": "python",
   "pygments_lexer": "ipython3",
   "version": "3.7.6"
  }
 },
 "nbformat": 4,
 "nbformat_minor": 2
}
