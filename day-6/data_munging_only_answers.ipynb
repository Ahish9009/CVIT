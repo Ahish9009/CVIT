{
 "cells": [
  {
   "cell_type": "code",
   "execution_count": 1,
   "metadata": {},
   "outputs": [],
   "source": [
    "def read_data(filename):\n",
    "  final_data = []\n",
    "  # Add code here\n",
    "  with open( filename, 'r') as f:\n",
    "    lines = f.readlines()[1:]\n",
    "    for line in lines:\n",
    "      content = line.split(',')\n",
    "      final_data += [[content[0], float(content[1]), float(content[2])]]     \n",
    "\n",
    "\n",
    "  return final_data\n",
    "\n",
    "\n",
    "# data = read_data(FULL_DATA)\n",
    "\n",
    "# NOTE: Data should be of format: [[\"Male\", 73.23, 241.34], [\"Female\", 56.32, 154.344], ....]"
   ]
  },
  {
   "cell_type": "code",
   "execution_count": null,
   "metadata": {},
   "outputs": [],
   "source": [
    "def read_data_2(filename):\n",
    "  final_data = []\n",
    "  # Add code here, but also convert inches to cm and pounds to kg and round to nearest integer while reading.\n",
    "  #NOTE: 1 inch = 2.54 cm, 1 pound = 0.4536 kg\n",
    "\n",
    "  data_in_lb = read_data(filename)\n",
    "\n",
    "  final_data = list(map(lambda x: [x[0], x[1]*2.54, x[2]*0.4536], data_in_lb))\n",
    "\n",
    "  return final_data\n",
    "\n",
    "# data = read_data_2(FULL_DATA)\n",
    "# data"
   ]
  },
  {
   "cell_type": "code",
   "execution_count": null,
   "metadata": {},
   "outputs": [],
   "source": [
    "# Code here\n",
    "import matplotlib.pyplot as plt\n",
    "\n",
    "plt.scatter(data[data[\"Gender\"] == \"Male\"][\"Height\"], data[data[\"Gender\"] == \"Male\"][\"Weight\"])\n",
    "plt.scatter(data[data[\"Gender\"] == \"Female\"][\"Height\"], data[data[\"Gender\"] == \"Female\"][\"Weight\"])"
   ]
  },
  {
   "cell_type": "code",
   "execution_count": null,
   "metadata": {},
   "outputs": [],
   "source": [
    "# Code here\n",
    "plt.scatter(data[\"Height\"], data[\"Weight\"])\n",
    "plt.scatter(data[(data[\"Gender\"] == \"Male\") & (data[\"Weight\"] > 100)][\"Height\"],\\\n",
    "            data[(data[\"Gender\"] == \"Male\") & (data[\"Weight\"] > 100)][\"Weight\"])\n",
    "plt.scatter(data[(data[\"Gender\"] == \"Female\") & (data[\"Weight\"] > 80)][\"Height\"],\\\n",
    "            data[(data[\"Gender\"] == \"Female\") & (data[\"Weight\"] > 80)][\"Weight\"])"
   ]
  },
  {
   "cell_type": "code",
   "execution_count": null,
   "metadata": {},
   "outputs": [],
   "source": [
    "# Code here\n",
    "plt.boxplot([data[data[\"Gender\"] == \"Male\"][\"Height\"],data[data[\"Gender\"] == \"Female\"][\"Height\"]],\\\n",
    "            labels= [\"Male\", \"Female\"])"
   ]
  }
 ],
 "metadata": {
  "kernelspec": {
   "display_name": "Python 3",
   "language": "python",
   "name": "python3"
  },
  "language_info": {
   "codemirror_mode": {
    "name": "ipython",
    "version": 3
   },
   "file_extension": ".py",
   "mimetype": "text/x-python",
   "name": "python",
   "nbconvert_exporter": "python",
   "pygments_lexer": "ipython3",
   "version": "3.7.6"
  }
 },
 "nbformat": 4,
 "nbformat_minor": 2
}
